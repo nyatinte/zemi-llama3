{
 "cells": [
  {
   "cell_type": "code",
   "execution_count": 2,
   "metadata": {},
   "outputs": [],
   "source": [
    "from ollama import Client\n",
    "\n",
    "client = Client(host=\"http://localhost:11434\")\n",
    "response = client.chat(\n",
    "    model=\"llama3\",\n",
    "    messages=[\n",
    "        {\n",
    "            \"role\": \"user\",\n",
    "            \"content\": \"Why is the sky blue?\",\n",
    "        },\n",
    "    ],\n",
    ")"
   ]
  },
  {
   "cell_type": "code",
   "execution_count": 7,
   "metadata": {},
   "outputs": [
    {
     "data": {
      "text/plain": [
       "\"The sky appears blue because of a phenomenon called Rayleigh scattering, named after the British physicist Lord Rayleigh. Here's what happens:\\n\\n1. **Sunlight enters Earth's atmosphere**: When sunlight enters our atmosphere, it encounters tiny molecules of gases like nitrogen (N2) and oxygen (O2).\\n2. **Scattering occurs**: These gas molecules scatter the light in all directions, but they do so more efficiently for shorter wavelengths of light, such as blue and violet.\\n3. **Blue light is scattered more**: The scattering process favors shorter wavelengths, which means that blue light is scattered more than other colors. This is because the smaller gas molecules are better at scattering the shorter wavelengths.\\n4. **Red light continues straight**: Meanwhile, longer wavelengths like red and orange light continue to travel in a straight line, with minimal scattering.\\n5. **Our eyes perceive the color**: When we look up at the sky, our eyes see the combined effect of all this scattered light. Since blue light is scattered more than other colors, it dominates our perception, making the sky appear blue during the daytime.\\n\\nIn addition to Rayleigh scattering, there are a few other factors that can affect the apparent color of the sky:\\n\\n* **Dust and water vapor**: Tiny particles in the air, like dust, smoke, or water vapor, can scatter light in different ways, making the sky appear more hazy or gray.\\n* **Atmospheric conditions**: The color of the sky can also be influenced by atmospheric conditions like pollution, volcanic eruptions, or natural events that change the composition of the atmosphere.\\n\\nSo, there you have it! The blue color we see in the sky is a result of the scattering of sunlight by tiny molecules in our atmosphere.\""
      ]
     },
     "execution_count": 7,
     "metadata": {},
     "output_type": "execute_result"
    }
   ],
   "source": [
    "response[\"message\"][\"content\"]"
   ]
  },
  {
   "cell_type": "code",
   "execution_count": null,
   "metadata": {},
   "outputs": [],
   "source": []
  }
 ],
 "metadata": {
  "kernelspec": {
   "display_name": ".venv",
   "language": "python",
   "name": "python3"
  },
  "language_info": {
   "codemirror_mode": {
    "name": "ipython",
    "version": 3
   },
   "file_extension": ".py",
   "mimetype": "text/x-python",
   "name": "python",
   "nbconvert_exporter": "python",
   "pygments_lexer": "ipython3",
   "version": "3.12.4"
  }
 },
 "nbformat": 4,
 "nbformat_minor": 2
}
